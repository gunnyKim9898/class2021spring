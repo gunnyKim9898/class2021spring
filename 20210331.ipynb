{
  "nbformat": 4,
  "nbformat_minor": 0,
  "metadata": {
    "colab": {
      "name": "Untitled12.ipynb",
      "provenance": [],
      "authorship_tag": "ABX9TyMxzwcaZo/iOFi3jZvgWraL",
      "include_colab_link": true
    },
    "kernelspec": {
      "name": "python3",
      "display_name": "Python 3"
    },
    "language_info": {
      "name": "python"
    }
  },
  "cells": [
    {
      "cell_type": "markdown",
      "metadata": {
        "id": "view-in-github",
        "colab_type": "text"
      },
      "source": [
        "<a href=\"https://colab.research.google.com/github/2017130744/class2021spring/blob/main/20210331.ipynb\" target=\"_parent\"><img src=\"https://colab.research.google.com/assets/colab-badge.svg\" alt=\"Open In Colab\"/></a>"
      ]
    },
    {
      "cell_type": "code",
      "metadata": {
        "id": "wew6sWihqEKs"
      },
      "source": [
        "# 'a' sound\n",
        "## pitch: 95.2 Hz\n",
        "## intensity: 78.15 dB\n",
        "## formant: 766.3 Hz, 1213 Hz\n",
        "## duration: 0.432 second\n",
        "\n",
        "#'ae' sound\n",
        "## pitch: 93.18 Hz\n",
        "## intensity: 75.59 dB\n",
        "## formant: 640.6 Hz, 1978 Hz\n",
        "## duration: 0.568 second"
      ],
      "execution_count": null,
      "outputs": []
    }
  ]
}