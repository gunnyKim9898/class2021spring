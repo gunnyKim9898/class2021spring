{
  "nbformat": 4,
  "nbformat_minor": 0,
  "metadata": {
    "colab": {
      "name": "Untitled4.ipynb",
      "provenance": [],
      "authorship_tag": "ABX9TyNtECnvXj4EqbzE9+pbqU+s",
      "include_colab_link": true
    },
    "kernelspec": {
      "name": "python3",
      "display_name": "Python 3"
    }
  },
  "cells": [
    {
      "cell_type": "markdown",
      "metadata": {
        "id": "view-in-github",
        "colab_type": "text"
      },
      "source": [
        "<a href=\"https://colab.research.google.com/github/2017130744/class2021spring/blob/main/string.ipynb\" target=\"_parent\"><img src=\"https://colab.research.google.com/assets/colab-badge.svg\" alt=\"Open In Colab\"/></a>"
      ]
    },
    {
      "cell_type": "code",
      "metadata": {
        "colab": {
          "base_uri": "https://localhost:8080/"
        },
        "id": "gXz0YgLTxPJN",
        "outputId": "bb1aef61-8339-4085-e13b-531040beb44a"
      },
      "source": [
        "c = '영어음성학'\r\n",
        "print(c[0], c[2], c[-1], c[-4])\r\n",
        "print(c[:1], c[1:3], c[:2], c[:])\r\n",
        "###처음 시작하는 것은 0부터, 마지막부터 시작하는건 –1부터이다\r\n",
        "###x:y 로 표현할 때 x에 해당하는 부분은 포함, y에 해당하는 부분은 미포함한다. "
      ],
      "execution_count": 4,
      "outputs": [
        {
          "output_type": "stream",
          "text": [
            "영 음 학 어\n",
            "영 어음 영어 영어음성학\n"
          ],
          "name": "stdout"
        }
      ]
    },
    {
      "cell_type": "code",
      "metadata": {
        "colab": {
          "base_uri": "https://localhost:8080/"
        },
        "id": "ZY0mss2QxQuS",
        "outputId": "13438c88-88ec-4acf-a183-b6343ce03b37"
      },
      "source": [
        "n=[23, 41, 8749]\r\n",
        "print(n[0], n[2], n[-1], n[-2])\r\n",
        "print(n[1:2], n[1:], n[:2], n[:])"
      ],
      "execution_count": 5,
      "outputs": [
        {
          "output_type": "stream",
          "text": [
            "23 8749 8749 41\n",
            "[41] [41, 8749] [23, 41] [23, 41, 8749]\n"
          ],
          "name": "stdout"
        }
      ]
    },
    {
      "cell_type": "code",
      "metadata": {
        "colab": {
          "base_uri": "https://localhost:8080/"
        },
        "id": "wJWrASrh5cod",
        "outputId": "cd37ff2f-256f-409f-862c-f1c0865671d4"
      },
      "source": [
        "len(c)"
      ],
      "execution_count": 6,
      "outputs": [
        {
          "output_type": "execute_result",
          "data": {
            "text/plain": [
              "5"
            ]
          },
          "metadata": {
            "tags": []
          },
          "execution_count": 6
        }
      ]
    },
    {
      "cell_type": "code",
      "metadata": {
        "colab": {
          "base_uri": "https://localhost:8080/",
          "height": 35
        },
        "id": "s_h3KLBA5wJY",
        "outputId": "06d15a33-c57a-435d-c946-80b76bbc72fe"
      },
      "source": [
        "c[1]+c[3]+c[4:]*10\r\n",
        "###문자열 데이터를 더할 수 있다."
      ],
      "execution_count": 7,
      "outputs": [
        {
          "output_type": "execute_result",
          "data": {
            "application/vnd.google.colaboratory.intrinsic+json": {
              "type": "string"
            },
            "text/plain": [
              "'어성학학학학학학학학학학'"
            ]
          },
          "metadata": {
            "tags": []
          },
          "execution_count": 7
        }
      ]
    },
    {
      "cell_type": "code",
      "metadata": {
        "colab": {
          "base_uri": "https://localhost:8080/",
          "height": 35
        },
        "id": "MvKqlSwf6HtA",
        "outputId": "66c29879-7ce8-4bf8-c04f-0d8655c9c076"
      },
      "source": [
        "s = 'abeo'\r\n",
        "s.upper()\r\n",
        "###소문자를 대문자로 바꿔준다"
      ],
      "execution_count": 9,
      "outputs": [
        {
          "output_type": "execute_result",
          "data": {
            "application/vnd.google.colaboratory.intrinsic+json": {
              "type": "string"
            },
            "text/plain": [
              "'ABEO'"
            ]
          },
          "metadata": {
            "tags": []
          },
          "execution_count": 9
        }
      ]
    },
    {
      "cell_type": "code",
      "metadata": {
        "colab": {
          "base_uri": "https://localhost:8080/",
          "height": 35
        },
        "id": "N9brhI9l6T3Q",
        "outputId": "5da251c1-1d13-4c28-bb16-1077f829f1f2"
      },
      "source": [
        "s = ' Hello mr. my yesterday \\n'\r\n",
        "s"
      ],
      "execution_count": 14,
      "outputs": [
        {
          "output_type": "execute_result",
          "data": {
            "application/vnd.google.colaboratory.intrinsic+json": {
              "type": "string"
            },
            "text/plain": [
              "' Hello mr. my yesterday \\n'"
            ]
          },
          "metadata": {
            "tags": []
          },
          "execution_count": 14
        }
      ]
    },
    {
      "cell_type": "code",
      "metadata": {
        "colab": {
          "base_uri": "https://localhost:8080/"
        },
        "id": "vk7yWVVh6i-t",
        "outputId": "19d44cbe-b791-48d0-93ac-b135590940b0"
      },
      "source": [
        "result = s.find('my')  # index of first instance of string t inside s (-1 if not found)\r\n",
        "result\r\n",
        "###.find()는 ()안의 문자가 코드에서 몇 번째 칸에 나오는지 보는 것이다. "
      ],
      "execution_count": 20,
      "outputs": [
        {
          "output_type": "execute_result",
          "data": {
            "text/plain": [
              "11"
            ]
          },
          "metadata": {
            "tags": []
          },
          "execution_count": 20
        }
      ]
    },
    {
      "cell_type": "code",
      "metadata": {
        "colab": {
          "base_uri": "https://localhost:8080/"
        },
        "id": "ANt4s-lu7b4d",
        "outputId": "0e3b9dd0-8c51-4e38-cbe4-90181b340deb"
      },
      "source": [
        "result = s.find('this')\r\n",
        "result"
      ],
      "execution_count": 21,
      "outputs": [
        {
          "output_type": "execute_result",
          "data": {
            "text/plain": [
              "-1"
            ]
          },
          "metadata": {
            "tags": []
          },
          "execution_count": 21
        }
      ]
    },
    {
      "cell_type": "code",
      "metadata": {
        "colab": {
          "base_uri": "https://localhost:8080/"
        },
        "id": "ezbnTnj_7hK6",
        "outputId": "2683e43b-cc9d-4c0c-b2f6-b2efafbed7a0"
      },
      "source": [
        "result = s.rindex('Hello')\r\n",
        "result"
      ],
      "execution_count": 25,
      "outputs": [
        {
          "output_type": "execute_result",
          "data": {
            "text/plain": [
              "1"
            ]
          },
          "metadata": {
            "tags": []
          },
          "execution_count": 25
        }
      ]
    },
    {
      "cell_type": "code",
      "metadata": {
        "colab": {
          "base_uri": "https://localhost:8080/",
          "height": 35
        },
        "id": "ifm8I5cR8dPA",
        "outputId": "8fc9ea86-65bf-401e-deb8-925d9ba06c45"
      },
      "source": [
        "s = s.strip()  #a copy of s without leading or trailing whitespace\r\n",
        "s\r\n",
        "###.strip()은 문자열에서 공백을 제외하고 출력하는 것이다. Hello 앞의 공백과 \\n(줄바꿈)이 사라졌다."
      ],
      "execution_count": 28,
      "outputs": [
        {
          "output_type": "execute_result",
          "data": {
            "application/vnd.google.colaboratory.intrinsic+json": {
              "type": "string"
            },
            "text/plain": [
              "'Hello mr. my yesterday'"
            ]
          },
          "metadata": {
            "tags": []
          },
          "execution_count": 28
        }
      ]
    },
    {
      "cell_type": "code",
      "metadata": {
        "colab": {
          "base_uri": "https://localhost:8080/"
        },
        "id": "36E6yd1f9GhM",
        "outputId": "397adbf1-a25b-4f46-d52b-640988723ced"
      },
      "source": [
        "tokens = s.split(' ')\r\n",
        "tokens\r\n",
        "###문자열데이터을 token으로 나누어 리스트로 저장한다."
      ],
      "execution_count": 32,
      "outputs": [
        {
          "output_type": "execute_result",
          "data": {
            "text/plain": [
              "['Hello', 'mr.', 'my', 'yesterday']"
            ]
          },
          "metadata": {
            "tags": []
          },
          "execution_count": 32
        }
      ]
    },
    {
      "cell_type": "code",
      "metadata": {
        "colab": {
          "base_uri": "https://localhost:8080/",
          "height": 35
        },
        "id": "_EJYwLTs9wCp",
        "outputId": "e3d869fd-2832-422c-daed-7095c37bc4db"
      },
      "source": [
        "s = ' '.join(tokens)\r\n",
        "s\r\n",
        "###리스트에 있는 데이터들을 합한다. .join앞에 ''는 각 원소들 사이에 들어갈 데이터이다. "
      ],
      "execution_count": 34,
      "outputs": [
        {
          "output_type": "execute_result",
          "data": {
            "application/vnd.google.colaboratory.intrinsic+json": {
              "type": "string"
            },
            "text/plain": [
              "'Hello mr. my yesterday'"
            ]
          },
          "metadata": {
            "tags": []
          },
          "execution_count": 34
        }
      ]
    },
    {
      "cell_type": "code",
      "metadata": {
        "colab": {
          "base_uri": "https://localhost:8080/",
          "height": 35
        },
        "id": "xmbprXWW-L-D",
        "outputId": "60e8f384-7641-4b8c-f3db-7e80ec0ff9dd"
      },
      "source": [
        "s = s.replace('Hello', 'Goodbye')\r\n",
        "s\r\n",
        "###.replace는 원소를 대체시키는 것이다."
      ],
      "execution_count": 36,
      "outputs": [
        {
          "output_type": "execute_result",
          "data": {
            "application/vnd.google.colaboratory.intrinsic+json": {
              "type": "string"
            },
            "text/plain": [
              "'Goodbye mr. my yesterday'"
            ]
          },
          "metadata": {
            "tags": []
          },
          "execution_count": 36
        }
      ]
    },
    {
      "cell_type": "code",
      "metadata": {
        "id": "AkNLYr-A-q-h"
      },
      "source": [
        ""
      ],
      "execution_count": null,
      "outputs": []
    }
  ]
}