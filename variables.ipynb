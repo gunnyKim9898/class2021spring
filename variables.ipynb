{
  "nbformat": 4,
  "nbformat_minor": 0,
  "metadata": {
    "colab": {
      "name": "Untitled6.ipynb",
      "provenance": [],
      "authorship_tag": "ABX9TyN9eZbnV0a2zNqZfYLZ3Pn/",
      "include_colab_link": true
    },
    "kernelspec": {
      "name": "python3",
      "display_name": "Python 3"
    }
  },
  "cells": [
    {
      "cell_type": "markdown",
      "metadata": {
        "id": "view-in-github",
        "colab_type": "text"
      },
      "source": [
        "<a href=\"https://colab.research.google.com/github/2017130744/class2021spring/blob/main/variables.ipynb\" target=\"_parent\"><img src=\"https://colab.research.google.com/assets/colab-badge.svg\" alt=\"Open In Colab\"/></a>"
      ]
    },
    {
      "cell_type": "code",
      "metadata": {
        "colab": {
          "base_uri": "https://localhost:8080/"
        },
        "id": "XtMkJfUDCszA",
        "outputId": "41455904-441a-4303-8228-aad835f15349"
      },
      "source": [
        "a = 164; print(type(a)) \r\n",
        "###int는 정수데이터"
      ],
      "execution_count": 1,
      "outputs": [
        {
          "output_type": "stream",
          "text": [
            "<class 'int'>\n"
          ],
          "name": "stdout"
        }
      ]
    },
    {
      "cell_type": "code",
      "metadata": {
        "colab": {
          "base_uri": "https://localhost:8080/"
        },
        "id": "fB0RTj2JC-cz",
        "outputId": "c8283994-d863-4aac-8778-db47a1934f88"
      },
      "source": [
        "a = 241; a = float(a); print(type(a))\r\n",
        "###float는 실수데이터"
      ],
      "execution_count": 2,
      "outputs": [
        {
          "output_type": "stream",
          "text": [
            "<class 'float'>\n"
          ],
          "name": "stdout"
        }
      ]
    },
    {
      "cell_type": "code",
      "metadata": {
        "colab": {
          "base_uri": "https://localhost:8080/"
        },
        "id": "_AhQfb_lDE2_",
        "outputId": "8622b116-6913-4874-93a8-1ccb3d9b1dff"
      },
      "source": [
        "a = 34.54; a = int(a); print(type(a)); a\r\n",
        "###int함수로 실수를 정수부분만 남길 수 있다."
      ],
      "execution_count": 5,
      "outputs": [
        {
          "output_type": "stream",
          "text": [
            "<class 'int'>\n"
          ],
          "name": "stdout"
        },
        {
          "output_type": "execute_result",
          "data": {
            "text/plain": [
              "34"
            ]
          },
          "metadata": {
            "tags": []
          },
          "execution_count": 5
        }
      ]
    },
    {
      "cell_type": "code",
      "metadata": {
        "colab": {
          "base_uri": "https://localhost:8080/"
        },
        "id": "EU2uCdKpDK6n",
        "outputId": "10991be6-0ea0-4f77-b143-5caac3cc95ff"
      },
      "source": [
        "a = '49845'; print (type(a)); print(a[1])\r\n",
        "###''안에 오는 숫자는 숫자데이터가 아니라 문자데이터이다. str->문자데이터"
      ],
      "execution_count": 6,
      "outputs": [
        {
          "output_type": "stream",
          "text": [
            "<class 'str'>\n",
            "9\n"
          ],
          "name": "stdout"
        }
      ]
    },
    {
      "cell_type": "code",
      "metadata": {
        "colab": {
          "base_uri": "https://localhost:8080/"
        },
        "id": "q3BLF4TuDRex",
        "outputId": "273b6455-5e17-43fd-d072-dd7c7606455e"
      },
      "source": [
        "a = '54624'; a = list(a); print (type(a)); print(a); print(a[2])\r\n",
        "###list함수는 문자열 데이터의 각 음절들을 리스트로 만들어준다."
      ],
      "execution_count": 8,
      "outputs": [
        {
          "output_type": "stream",
          "text": [
            "<class 'list'>\n",
            "['5', '4', '6', '2', '4']\n",
            "6\n"
          ],
          "name": "stdout"
        }
      ]
    },
    {
      "cell_type": "code",
      "metadata": {
        "colab": {
          "base_uri": "https://localhost:8080/"
        },
        "id": "h49hAWRyDk6w",
        "outputId": "94b5b268-bb6b-4670-8915-2a2f71e18a32"
      },
      "source": [
        "a = ['영어음성학', '513', [3, '4']]; print(type(a)); print(a[0]); print(a[1]); print(a[2])\r\n",
        "###리스트도 리스트의 원소가 될 수 있다."
      ],
      "execution_count": 10,
      "outputs": [
        {
          "output_type": "stream",
          "text": [
            "<class 'list'>\n",
            "영어음성학\n",
            "513\n",
            "[3, '4']\n"
          ],
          "name": "stdout"
        }
      ]
    },
    {
      "cell_type": "code",
      "metadata": {
        "colab": {
          "base_uri": "https://localhost:8080/"
        },
        "id": "ZMEt7UgmD1Ks",
        "outputId": "79342981-6b0b-4bb0-ec79-34032cff78af"
      },
      "source": [
        "a = {\"월요일\": \"영어음성학\", \"화요일\": \"미국산문\", \"금요일\": '공강'}\r\n",
        "print(type('월요일'))\r\n",
        "print(a[\"화요일\"])\r\n",
        "#딕셔너리는 \"\"를 써도 되고 ''를 써도 된다. "
      ],
      "execution_count": 14,
      "outputs": [
        {
          "output_type": "stream",
          "text": [
            "<class 'str'>\n",
            "미국산문\n"
          ],
          "name": "stdout"
        }
      ]
    },
    {
      "cell_type": "code",
      "metadata": {
        "colab": {
          "base_uri": "https://localhost:8080/"
        },
        "id": "tEgrDeC7EEut",
        "outputId": "831391ef-25eb-4f8d-9fda-f1c0b9396139"
      },
      "source": [
        "a=[(1, 2, 3), (3, 8, 0)]\r\n",
        "print(type(a))\r\n",
        "a"
      ],
      "execution_count": 15,
      "outputs": [
        {
          "output_type": "stream",
          "text": [
            "<class 'list'>\n"
          ],
          "name": "stdout"
        },
        {
          "output_type": "execute_result",
          "data": {
            "text/plain": [
              "[(1, 2, 3), (3, 8, 0)]"
            ]
          },
          "metadata": {
            "tags": []
          },
          "execution_count": 15
        }
      ]
    }
  ]
}