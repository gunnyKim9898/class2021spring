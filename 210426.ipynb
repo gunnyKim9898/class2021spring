{
  "nbformat": 4,
  "nbformat_minor": 0,
  "metadata": {
    "colab": {
      "name": "Untitled19.ipynb",
      "provenance": [],
      "collapsed_sections": [],
      "authorship_tag": "ABX9TyNfaq7IWK+Ppp7N04ZMgGqu",
      "include_colab_link": true
    },
    "kernelspec": {
      "name": "python3",
      "display_name": "Python 3"
    },
    "language_info": {
      "name": "python"
    }
  },
  "cells": [
    {
      "cell_type": "markdown",
      "metadata": {
        "id": "view-in-github",
        "colab_type": "text"
      },
      "source": [
        "<a href=\"https://colab.research.google.com/github/2017130744/class2021spring/blob/main/210426.ipynb\" target=\"_parent\"><img src=\"https://colab.research.google.com/assets/colab-badge.svg\" alt=\"Open In Colab\"/></a>"
      ]
    },
    {
      "cell_type": "code",
      "metadata": {
        "id": "uVIFi79riS0-"
      },
      "source": [
        "def phasor(amp,sr,dur,freq):\n",
        "\n",
        "  %matplotlib inline\n",
        "  from matplotlib import pyplot as plt\n",
        "  import IPython.display as ipd\n",
        "  import numpy as np\n",
        "  from scipy.signal import lfilter\n",
        "\n",
        "  t = np.arange(1, sr*dur +1)/sr\n",
        "  theta = t * 2*np.pi * freq\n",
        "  s = np.sin(theta)\n",
        "\n",
        "  return t, theta, s\n"
      ],
      "execution_count": 16,
      "outputs": []
    },
    {
      "cell_type": "code",
      "metadata": {
        "id": "aF5ljJ5P2QBD"
      },
      "source": [
        "def phasor(amp,sr,dur,freq):\n",
        "\n",
        "  %matplotlib inline\n",
        "  from matplotlib import pyplot as plt\n",
        "  import IPython.display as ipd\n",
        "  import numpy as np\n",
        "  from scipy.signal import lfilter\n",
        "\n",
        "  t = np.arange(1, sr*dur +1)/sr\n",
        "  theta = t * 2*np.pi * freq\n",
        "  s = np.sin(theta)\n",
        "\n",
        "  fig = plt.figure()\n",
        "  ax = fig.add_subplot(111)\n",
        "  ax.plot(t[0:1000], s[0:1000], '.')\n",
        "  ax.set_xlabel('time (s)')\n",
        "  ax.set_ylabel('real')\n",
        "\n",
        "\n",
        "  return fig\n"
      ],
      "execution_count": null,
      "outputs": []
    }
  ]
}