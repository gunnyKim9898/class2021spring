{
  "nbformat": 4,
  "nbformat_minor": 0,
  "metadata": {
    "colab": {
      "name": "Untitled5.ipynb",
      "provenance": [],
      "authorship_tag": "ABX9TyOSwMCHf4IsgVNQL/TF/eOv",
      "include_colab_link": true
    },
    "kernelspec": {
      "name": "python3",
      "display_name": "Python 3"
    }
  },
  "cells": [
    {
      "cell_type": "markdown",
      "metadata": {
        "id": "view-in-github",
        "colab_type": "text"
      },
      "source": [
        "<a href=\"https://colab.research.google.com/github/2017130744/class2021spring/blob/main/syntax.ipynb\" target=\"_parent\"><img src=\"https://colab.research.google.com/assets/colab-badge.svg\" alt=\"Open In Colab\"/></a>"
      ]
    },
    {
      "cell_type": "code",
      "metadata": {
        "colab": {
          "base_uri": "https://localhost:8080/"
        },
        "id": "6WN38KuH-3g3",
        "outputId": "a5cdec87-f6fe-4556-8619-2dbdea6cea6f"
      },
      "source": [
        "number = [165, 484, 3556, 354]\r\n",
        "for i in number:\r\n",
        "    print(i)\r\n",
        "    ###for 함수는 반복함수. 리스트에 있는 데이터들을 전부 다 반복하는 것이다. "
      ],
      "execution_count": 1,
      "outputs": [
        {
          "output_type": "stream",
          "text": [
            "165\n",
            "484\n",
            "3556\n",
            "354\n"
          ],
          "name": "stdout"
        }
      ]
    },
    {
      "cell_type": "code",
      "metadata": {
        "colab": {
          "base_uri": "https://localhost:8080/"
        },
        "id": "PCXYJj3Q__jd",
        "outputId": "f43b45e2-e475-490c-c6ec-4a5da5a4fcfa"
      },
      "source": [
        "number = [16984, 12534, 5849, 65416]\r\n",
        "for i in range(len(number)):\r\n",
        "    print(number[i])\r\n",
        "    ###for I in range(len(number))에서 range는 0부터 ()안에 있는 수까지 반복한다는 것이다. \r\n",
        "    ###len(a)는 원소개수 = 4개 이므로 0부터 3까지의 수를 반복한다."
      ],
      "execution_count": 2,
      "outputs": [
        {
          "output_type": "stream",
          "text": [
            "16984\n",
            "12534\n",
            "5849\n",
            "65416\n"
          ],
          "name": "stdout"
        }
      ]
    },
    {
      "cell_type": "code",
      "metadata": {
        "colab": {
          "base_uri": "https://localhost:8080/"
        },
        "id": "HTiV-I5IAebU",
        "outputId": "15bae8aa-3c6b-4215-9849-810e8497ea23"
      },
      "source": [
        "c=  ['영', '어', '음', '성', '학']\r\n",
        "for i in c: \r\n",
        "  print(i)"
      ],
      "execution_count": 3,
      "outputs": [
        {
          "output_type": "stream",
          "text": [
            "영\n",
            "어\n",
            "음\n",
            "성\n",
            "학\n"
          ],
          "name": "stdout"
        }
      ]
    },
    {
      "cell_type": "code",
      "metadata": {
        "colab": {
          "base_uri": "https://localhost:8080/"
        },
        "id": "PMsOVGmcAnNj",
        "outputId": "f1ad2dd2-05ef-4360-b6ea-52664b3fb5e8"
      },
      "source": [
        "c=  ['영', '어', '음', '성', '학']\r\n",
        "for i in range(len(c)):\r\n",
        "    print(c[i])"
      ],
      "execution_count": 8,
      "outputs": [
        {
          "output_type": "stream",
          "text": [
            "영\n",
            "어\n",
            "음\n",
            "성\n",
            "학\n"
          ],
          "name": "stdout"
        }
      ]
    },
    {
      "cell_type": "code",
      "metadata": {
        "colab": {
          "base_uri": "https://localhost:8080/"
        },
        "id": "bg58DMYMBDhd",
        "outputId": "c72eb8ef-a1ec-427e-cec7-48fa85f30b6d"
      },
      "source": [
        "a = ['red', 'blue', 'green', 'purple']\r\n",
        "b = [0.2, 0.3, 0.1, 0.4]\r\n",
        "for a_, b_ in zip(a, b):\r\n",
        "  print(\"{}: {}%\".format(a_, b_*100))"
      ],
      "execution_count": 9,
      "outputs": [
        {
          "output_type": "stream",
          "text": [
            "red: 20.0%\n",
            "blue: 30.0%\n",
            "green: 10.0%\n",
            "purple: 40.0%\n"
          ],
          "name": "stdout"
        }
      ]
    },
    {
      "cell_type": "code",
      "metadata": {
        "colab": {
          "base_uri": "https://localhost:8080/"
        },
        "id": "RfwzfS5XBnYF",
        "outputId": "54a7852c-ed9a-4ff7-f174-3b6a64a093c8"
      },
      "source": [
        "a = 0\r\n",
        "if a==0:\r\n",
        "  print(a)\r\n",
        "else:\r\n",
        "  print(a+1) "
      ],
      "execution_count": null,
      "outputs": [
        {
          "output_type": "stream",
          "text": [
            "0\n"
          ],
          "name": "stdout"
        }
      ]
    },
    {
      "cell_type": "code",
      "metadata": {
        "colab": {
          "base_uri": "https://localhost:8080/"
        },
        "id": "GamBXxMwBzEa",
        "outputId": "69191e28-0813-4245-bec9-698f3ee07a7b"
      },
      "source": [
        "for i in range(1,3):\r\n",
        "  for j in range(3,5):\r\n",
        "    if j>=4:\r\n",
        "      print(i*j)"
      ],
      "execution_count": null,
      "outputs": [
        {
          "output_type": "stream",
          "text": [
            "4\n",
            "8\n"
          ],
          "name": "stdout"
        }
      ]
    },
    {
      "cell_type": "code",
      "metadata": {
        "colab": {
          "base_uri": "https://localhost:8080/"
        },
        "id": "Im7dCxdSCKnz",
        "outputId": "f1512179-5088-43b8-de1c-58bf96a39348"
      },
      "source": [
        "a = [1, 2, 3, 4]\r\n",
        "b = [i for i in a if i >=2]\r\n",
        "b"
      ],
      "execution_count": null,
      "outputs": [
        {
          "output_type": "execute_result",
          "data": {
            "text/plain": [
              "[2, 3, 4]"
            ]
          },
          "metadata": {
            "tags": []
          },
          "execution_count": 14
        }
      ]
    },
    {
      "cell_type": "code",
      "metadata": {
        "colab": {
          "base_uri": "https://localhost:8080/"
        },
        "id": "0q4adVSmCXzD",
        "outputId": "7f7bfc43-7b17-4f91-96f7-4379e9c070ef"
      },
      "source": [
        "a = ['red', 'green', 'blue', 'purple']\r\n",
        "b = [i for i in a if len(i) >=4]\r\n",
        "b"
      ],
      "execution_count": null,
      "outputs": [
        {
          "output_type": "execute_result",
          "data": {
            "text/plain": [
              "['green', 'blue', 'purple']"
            ]
          },
          "metadata": {
            "tags": []
          },
          "execution_count": 15
        }
      ]
    }
  ]
}