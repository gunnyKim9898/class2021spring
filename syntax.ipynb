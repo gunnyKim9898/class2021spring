{
  "nbformat": 4,
  "nbformat_minor": 0,
  "metadata": {
    "colab": {
      "name": "Untitled5.ipynb",
      "provenance": [],
      "authorship_tag": "ABX9TyNBafzZlATuJDxidEEs6nwx",
      "include_colab_link": true
    },
    "kernelspec": {
      "name": "python3",
      "display_name": "Python 3"
    }
  },
  "cells": [
    {
      "cell_type": "markdown",
      "metadata": {
        "id": "view-in-github",
        "colab_type": "text"
      },
      "source": [
        "<a href=\"https://colab.research.google.com/github/2017130744/class2021spring/blob/main/syntax.ipynb\" target=\"_parent\"><img src=\"https://colab.research.google.com/assets/colab-badge.svg\" alt=\"Open In Colab\"/></a>"
      ]
    },
    {
      "cell_type": "code",
      "metadata": {
        "colab": {
          "base_uri": "https://localhost:8080/"
        },
        "id": "6WN38KuH-3g3",
        "outputId": "3b7473af-adda-4186-9372-1d391cc3258a"
      },
      "source": [
        "a = [1, 2, 3, 4]\r\n",
        "for i in a:\r\n",
        "    print(i)"
      ],
      "execution_count": 1,
      "outputs": [
        {
          "output_type": "stream",
          "text": [
            "1\n",
            "2\n",
            "3\n",
            "4\n"
          ],
          "name": "stdout"
        }
      ]
    },
    {
      "cell_type": "code",
      "metadata": {
        "colab": {
          "base_uri": "https://localhost:8080/"
        },
        "id": "PCXYJj3Q__jd",
        "outputId": "59304da5-68f8-414c-a5c5-a90bddd10344"
      },
      "source": [
        "a = [1, 2, 3, 4]\r\n",
        "for i in range(len(a)):\r\n",
        "    print(a[i])\r\n",
        "    "
      ],
      "execution_count": 2,
      "outputs": [
        {
          "output_type": "stream",
          "text": [
            "1\n",
            "2\n",
            "3\n",
            "4\n"
          ],
          "name": "stdout"
        }
      ]
    },
    {
      "cell_type": "code",
      "metadata": {
        "colab": {
          "base_uri": "https://localhost:8080/"
        },
        "id": "HTiV-I5IAebU",
        "outputId": "9cd6c8bf-b9b7-4746-f3c2-73be498d3c63"
      },
      "source": [
        "a=  ['red', 'green', 'blue', 'purple']\r\n",
        "for i in a: \r\n",
        "  print(i)"
      ],
      "execution_count": 3,
      "outputs": [
        {
          "output_type": "stream",
          "text": [
            "red\n",
            "green\n",
            "blue\n",
            "purple\n"
          ],
          "name": "stdout"
        }
      ]
    },
    {
      "cell_type": "code",
      "metadata": {
        "colab": {
          "base_uri": "https://localhost:8080/"
        },
        "id": "PMsOVGmcAnNj",
        "outputId": "b4f1ffe6-1393-480a-d559-659438934a2f"
      },
      "source": [
        "a = ['red', 'green', 'blue', 'purple']\r\n",
        "for i in range(len(a)):\r\n",
        "    print(a[i])"
      ],
      "execution_count": 8,
      "outputs": [
        {
          "output_type": "stream",
          "text": [
            "red\n",
            "green\n",
            "blue\n",
            "purple\n"
          ],
          "name": "stdout"
        }
      ]
    },
    {
      "cell_type": "code",
      "metadata": {
        "colab": {
          "base_uri": "https://localhost:8080/"
        },
        "id": "bg58DMYMBDhd",
        "outputId": "c7be299a-8b07-4666-f80e-e0df9423d1aa"
      },
      "source": [
        "a = ['red', 'blue', 'green', 'purple']\r\n",
        "b = [0.2, 0.3, 0.1, 0.4]\r\n",
        "for a_, b_ in zip(a, b):\r\n",
        "  print(\"{}: {}%\".format(a_, b_*100))"
      ],
      "execution_count": 11,
      "outputs": [
        {
          "output_type": "stream",
          "text": [
            "red:20.0%\n",
            "blue:30.0%\n",
            "green:10.0%\n",
            "purple:40.0%\n"
          ],
          "name": "stdout"
        }
      ]
    },
    {
      "cell_type": "code",
      "metadata": {
        "colab": {
          "base_uri": "https://localhost:8080/"
        },
        "id": "RfwzfS5XBnYF",
        "outputId": "54a7852c-ed9a-4ff7-f174-3b6a64a093c8"
      },
      "source": [
        "a = 0\r\n",
        "if a==0:\r\n",
        "  print(a)\r\n",
        "else:\r\n",
        "  print(a+1) "
      ],
      "execution_count": 12,
      "outputs": [
        {
          "output_type": "stream",
          "text": [
            "0\n"
          ],
          "name": "stdout"
        }
      ]
    },
    {
      "cell_type": "code",
      "metadata": {
        "colab": {
          "base_uri": "https://localhost:8080/"
        },
        "id": "GamBXxMwBzEa",
        "outputId": "69191e28-0813-4245-bec9-698f3ee07a7b"
      },
      "source": [
        "for i in range(1,3):\r\n",
        "  for j in range(3,5):\r\n",
        "    if j>=4:\r\n",
        "      print(i*j)"
      ],
      "execution_count": 13,
      "outputs": [
        {
          "output_type": "stream",
          "text": [
            "4\n",
            "8\n"
          ],
          "name": "stdout"
        }
      ]
    },
    {
      "cell_type": "code",
      "metadata": {
        "colab": {
          "base_uri": "https://localhost:8080/"
        },
        "id": "Im7dCxdSCKnz",
        "outputId": "f1512179-5088-43b8-de1c-58bf96a39348"
      },
      "source": [
        "a = [1, 2, 3, 4]\r\n",
        "b = [i for i in a if i >=2]\r\n",
        "b"
      ],
      "execution_count": 14,
      "outputs": [
        {
          "output_type": "execute_result",
          "data": {
            "text/plain": [
              "[2, 3, 4]"
            ]
          },
          "metadata": {
            "tags": []
          },
          "execution_count": 14
        }
      ]
    },
    {
      "cell_type": "code",
      "metadata": {
        "colab": {
          "base_uri": "https://localhost:8080/"
        },
        "id": "0q4adVSmCXzD",
        "outputId": "7f7bfc43-7b17-4f91-96f7-4379e9c070ef"
      },
      "source": [
        "a = ['red', 'green', 'blue', 'purple']\r\n",
        "b = [i for i in a if len(i) >=4]\r\n",
        "b"
      ],
      "execution_count": 15,
      "outputs": [
        {
          "output_type": "execute_result",
          "data": {
            "text/plain": [
              "['green', 'blue', 'purple']"
            ]
          },
          "metadata": {
            "tags": []
          },
          "execution_count": 15
        }
      ]
    }
  ]
}